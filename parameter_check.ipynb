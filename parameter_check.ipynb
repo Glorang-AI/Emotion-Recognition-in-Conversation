{
 "cells": [
  {
   "cell_type": "code",
   "execution_count": 1,
   "metadata": {},
   "outputs": [
    {
     "name": "stderr",
     "output_type": "stream",
     "text": [
      "/usr/lib/python3/dist-packages/requests/__init__.py:89: RequestsDependencyWarning: urllib3 (1.26.15) or chardet (3.0.4) doesn't match a supported version!\n",
      "  warnings.warn(\"urllib3 ({}) or chardet ({}) doesn't match a supported \"\n",
      "/home/jjonhwa/.local/lib/python3.8/site-packages/tqdm/auto.py:21: TqdmWarning: IProgress not found. Please update jupyter and ipywidgets. See https://ipywidgets.readthedocs.io/en/stable/user_install.html\n",
      "  from .autonotebook import tqdm as notebook_tqdm\n"
     ]
    }
   ],
   "source": [
    "import os\n",
    "import wandb\n",
    "import argparse\n",
    "import pandas as pd\n",
    "\n",
    "import torch\n",
    "from torch import nn\n",
    "from torch.utils.data import DataLoader\n",
    "from torch.nn.utils.rnn import pad_sequence\n",
    "from transformers import (\n",
    "    AdamW, \n",
    "    get_linear_schedule_with_warmup,\n",
    "    Wav2Vec2Config, \n",
    "    RobertaConfig, \n",
    "    BertConfig,\n",
    "    AutoTokenizer\n",
    ")\n",
    "\n",
    "from sklearn.model_selection import train_test_split\n",
    "\n",
    "from dataset import ETRIDataset\n",
    "from trainer import ModelTrainer\n",
    "from models import (\n",
    "    CompressedCASEModel,\n",
    "    CASEmodel, \n",
    "    CompressedCSEModel, \n",
    "    ConcatModel, \n",
    "    MultiModalMixer,\n",
    "    TextOnlyModel,\n",
    "    SpeechOnlyModel,\n",
    ")\n",
    "from utils import audio_embedding, seed, loss"
   ]
  },
  {
   "cell_type": "code",
   "execution_count": 2,
   "metadata": {},
   "outputs": [],
   "source": [
    "# Define a config dictionary object\n",
    "parser = argparse.ArgumentParser()\n",
    "\n",
    "# -- Choose Pretrained Model\n",
    "parser.add_argument(\"--lm_path\", type=str, default=\"klue/bert-base\", help=\"You can choose models among (klue-bert series and klue-roberta series) (default: klue/bert-base\")\n",
    "parser.add_argument(\"--am_path\", type=str, default=\"kresnik/wav2vec2-large-xlsr-korean\")\n",
    "\n",
    "# -- Training Argument\n",
    "parser.add_argument(\"--lr\", type=float, default=1e-5)\n",
    "parser.add_argument(\"--train_bsz\", type=int, default=64)\n",
    "parser.add_argument(\"--valid_bsz\", type=int, default=64)\n",
    "parser.add_argument(\"--val_ratio\", type=float, default=0.2)\n",
    "parser.add_argument(\"--context_max_len\", type=int, default=128)\n",
    "parser.add_argument(\"--audio_max_len\", type=int, default=512)\n",
    "parser.add_argument(\"--epochs\", type=int, default=50)\n",
    "parser.add_argument(\"--scheduler\", type=str, default=None)\n",
    "parser.add_argument(\"--num_labels\", type=int, default=7)\n",
    "parser.add_argument(\"--audio_emb_type\", type=str, default=\"last_hidden_state\", help=\"Can chosse audio embedding type between 'last_hidden_state' and 'extract_features' (default: last_hidden_state)\")\n",
    "parser.add_argument(\"--model\", type=str, default=\"CASE\")\n",
    "parser.add_argument(\"--contrastive\", type=bool, default=False)\n",
    "parser.add_argument(\"--loss\", type=str, default=\"crossentropy\")\n",
    "parser.add_argument(\"--gamma\", type=float, default=1.0, help=\"focalloss's gamma argument\")\n",
    "parser.add_argument(\"--size\", type=str, default=\"base\", help=\"model size parameter. Choose between 'base' and 'small'\")\n",
    "\n",
    "## -- directory\n",
    "parser.add_argument(\"--data_path\", type=str, default=\"data/train.csv\")\n",
    "parser.add_argument(\"--save_path\", type=str, default=\"save\")\n",
    "###### emb_train에 대한 설명 부과하기\n",
    "parser.add_argument(\"--embedding_path\", type=str, default=\"data/emb_train.pt\")\n",
    "\n",
    "# -- utils\n",
    "parser.add_argument(\"--device\", type=str, default=\"cuda:0\")\n",
    "parser.add_argument(\"--num_workers\", type=int, default=4)\n",
    "parser.add_argument(\"--seed\", type=int, default=0)\n",
    "\n",
    "# -- wandb\n",
    "parser.add_argument(\"--wandb_project\", type=str, default=\"comp\")\n",
    "parser.add_argument(\"--wandb_entity\", type=str, default=None)\n",
    "parser.add_argument(\"--wandb_group\", type=str, default=None)\n",
    "parser.add_argument(\"--wandb_name\", type=str, default=\"case_audio_base\")\n",
    "\n",
    "# -- train mode(PET or ORG)\n",
    "parser.add_argument(\"--pet\", type=bool, default=False)\n",
    "\n",
    "args = parser.parse_args([])\n",
    "\n",
    "wav_config = Wav2Vec2Config.from_pretrained(args.am_path)\n",
    "bert_config = BertConfig.from_pretrained(args.lm_path)\n",
    "\n",
    "if args.size == \"small\":\n",
    "    args.audio_max_len = 512\n",
    "    args.hidden_size = 256\n",
    "else:\n",
    "    args.hidden_size = bert_config.hidden_size"
   ]
  },
  {
   "cell_type": "code",
   "execution_count": 3,
   "metadata": {},
   "outputs": [
    {
     "name": "stderr",
     "output_type": "stream",
     "text": [
      "Some weights of the model checkpoint at klue/bert-base were not used when initializing BertModel: ['cls.predictions.decoder.weight', 'cls.seq_relationship.weight', 'cls.predictions.transform.LayerNorm.bias', 'cls.predictions.bias', 'cls.predictions.transform.LayerNorm.weight', 'cls.predictions.decoder.bias', 'cls.predictions.transform.dense.weight', 'cls.predictions.transform.dense.bias', 'cls.seq_relationship.bias']\n",
      "- This IS expected if you are initializing BertModel from the checkpoint of a model trained on another task or with another architecture (e.g. initializing a BertForSequenceClassification model from a BertForPreTraining model).\n",
      "- This IS NOT expected if you are initializing BertModel from the checkpoint of a model that you expect to be exactly identical (initializing a BertForSequenceClassification model from a BertForSequenceClassification model).\n"
     ]
    }
   ],
   "source": [
    "mmm = MultiModalMixer(args, wav_config, bert_config)\n",
    "mmm.freeze()"
   ]
  },
  {
   "attachments": {},
   "cell_type": "markdown",
   "metadata": {},
   "source": [
    "### Base 모델 vs MMM"
   ]
  },
  {
   "cell_type": "code",
   "execution_count": 4,
   "metadata": {},
   "outputs": [
    {
     "name": "stderr",
     "output_type": "stream",
     "text": [
      "Some weights of the model checkpoint at klue/bert-base were not used when initializing BertModel: ['cls.predictions.decoder.weight', 'cls.seq_relationship.weight', 'cls.predictions.transform.LayerNorm.bias', 'cls.predictions.bias', 'cls.predictions.transform.LayerNorm.weight', 'cls.predictions.decoder.bias', 'cls.predictions.transform.dense.weight', 'cls.predictions.transform.dense.bias', 'cls.seq_relationship.bias']\n",
      "- This IS expected if you are initializing BertModel from the checkpoint of a model trained on another task or with another architecture (e.g. initializing a BertForSequenceClassification model from a BertForPreTraining model).\n",
      "- This IS NOT expected if you are initializing BertModel from the checkpoint of a model that you expect to be exactly identical (initializing a BertForSequenceClassification model from a BertForSequenceClassification model).\n",
      "Some weights of the model checkpoint at klue/bert-base were not used when initializing BertModel: ['cls.predictions.decoder.weight', 'cls.seq_relationship.weight', 'cls.predictions.transform.LayerNorm.bias', 'cls.predictions.bias', 'cls.predictions.transform.LayerNorm.weight', 'cls.predictions.decoder.bias', 'cls.predictions.transform.dense.weight', 'cls.predictions.transform.dense.bias', 'cls.seq_relationship.bias']\n",
      "- This IS expected if you are initializing BertModel from the checkpoint of a model trained on another task or with another architecture (e.g. initializing a BertForSequenceClassification model from a BertForPreTraining model).\n",
      "- This IS NOT expected if you are initializing BertModel from the checkpoint of a model that you expect to be exactly identical (initializing a BertForSequenceClassification model from a BertForSequenceClassification model).\n"
     ]
    }
   ],
   "source": [
    "case = CASEmodel(args, wav_config, bert_config)\n",
    "cse = CompressedCSEModel(args, wav_config, bert_config)"
   ]
  },
  {
   "cell_type": "code",
   "execution_count": 5,
   "metadata": {},
   "outputs": [
    {
     "name": "stdout",
     "output_type": "stream",
     "text": [
      "MMM Paramter 수: 1547527\n",
      "C-CSE Paramter 수: 112658311\n",
      "CASE Paramter 수: 113183239\n"
     ]
    }
   ],
   "source": [
    "print(\"MMM Paramter 수:\", sum(p.numel() for p in mmm.parameters() if p.requires_grad))\n",
    "print(\"C-CSE Paramter 수:\", sum(p.numel() for p in cse.parameters() if p.requires_grad))\n",
    "print(\"CASE Paramter 수:\", sum(p.numel() for p in case.parameters() if p.requires_grad))"
   ]
  },
  {
   "attachments": {},
   "cell_type": "markdown",
   "metadata": {},
   "source": [
    "### Small 모델 vs MMM"
   ]
  },
  {
   "cell_type": "code",
   "execution_count": 6,
   "metadata": {},
   "outputs": [],
   "source": [
    "args.size = \"small\"\n",
    "\n",
    "if args.size == \"small\":\n",
    "    args.audio_max_len = 512\n",
    "    args.hidden_size = 256\n",
    "else:\n",
    "    args.hidden_size = bert_config.hidden_size"
   ]
  },
  {
   "cell_type": "code",
   "execution_count": 7,
   "metadata": {},
   "outputs": [
    {
     "name": "stderr",
     "output_type": "stream",
     "text": [
      "Some weights of the model checkpoint at klue/bert-base were not used when initializing BertModel: ['cls.predictions.decoder.weight', 'cls.seq_relationship.weight', 'cls.predictions.transform.LayerNorm.bias', 'cls.predictions.bias', 'cls.predictions.transform.LayerNorm.weight', 'cls.predictions.decoder.bias', 'cls.predictions.transform.dense.weight', 'cls.predictions.transform.dense.bias', 'cls.seq_relationship.bias']\n",
      "- This IS expected if you are initializing BertModel from the checkpoint of a model trained on another task or with another architecture (e.g. initializing a BertForSequenceClassification model from a BertForPreTraining model).\n",
      "- This IS NOT expected if you are initializing BertModel from the checkpoint of a model that you expect to be exactly identical (initializing a BertForSequenceClassification model from a BertForSequenceClassification model).\n",
      "Some weights of the model checkpoint at klue/bert-base were not used when initializing BertModel: ['cls.predictions.decoder.weight', 'cls.seq_relationship.weight', 'cls.predictions.transform.LayerNorm.bias', 'cls.predictions.bias', 'cls.predictions.transform.LayerNorm.weight', 'cls.predictions.decoder.bias', 'cls.predictions.transform.dense.weight', 'cls.predictions.transform.dense.bias', 'cls.seq_relationship.bias']\n",
      "- This IS expected if you are initializing BertModel from the checkpoint of a model trained on another task or with another architecture (e.g. initializing a BertForSequenceClassification model from a BertForPreTraining model).\n",
      "- This IS NOT expected if you are initializing BertModel from the checkpoint of a model that you expect to be exactly identical (initializing a BertForSequenceClassification model from a BertForSequenceClassification model).\n"
     ]
    }
   ],
   "source": [
    "case = CASEmodel(args, wav_config, bert_config)\n",
    "cse = CompressedCSEModel(args, wav_config, bert_config)"
   ]
  },
  {
   "cell_type": "code",
   "execution_count": 8,
   "metadata": {},
   "outputs": [
    {
     "name": "stdout",
     "output_type": "stream",
     "text": [
      "MMM Paramter 수: 1547527\n",
      "C-CSE Paramter 수: 593031\n",
      "CASE Paramter 수: 1646343\n"
     ]
    }
   ],
   "source": [
    "print(\"MMM Paramter 수:\", sum(p.numel() for p in mmm.parameters() if p.requires_grad))\n",
    "print(\"C-CSE Paramter 수:\", sum(p.numel() for p in cse.parameters() if p.requires_grad))\n",
    "print(\"CASE Paramter 수:\", sum(p.numel() for p in case.parameters() if p.requires_grad))"
   ]
  },
  {
   "cell_type": "code",
   "execution_count": null,
   "metadata": {},
   "outputs": [],
   "source": []
  }
 ],
 "metadata": {
  "kernelspec": {
   "display_name": "Python 3",
   "language": "python",
   "name": "python3"
  },
  "language_info": {
   "codemirror_mode": {
    "name": "ipython",
    "version": 3
   },
   "file_extension": ".py",
   "mimetype": "text/x-python",
   "name": "python",
   "nbconvert_exporter": "python",
   "pygments_lexer": "ipython3",
   "version": "3.8.10"
  },
  "orig_nbformat": 4,
  "vscode": {
   "interpreter": {
    "hash": "31f2aee4e71d21fbe5cf8b01ff0e069b9275f58929596ceb00d14d90e3e16cd6"
   }
  }
 },
 "nbformat": 4,
 "nbformat_minor": 2
}
