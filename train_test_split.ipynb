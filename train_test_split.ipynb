{
 "cells": [
  {
   "cell_type": "code",
   "execution_count": 1,
   "metadata": {},
   "outputs": [],
   "source": [
    "import pandas as pd\n",
    "df = pd.read_csv('data.csv')\n",
    "df_p = df[~df['labels'].str.contains(';')]"
   ]
  },
  {
   "cell_type": "code",
   "execution_count": 2,
   "metadata": {},
   "outputs": [],
   "source": [
    "import random\n",
    "train_fear = 43 - round(43*20/100)\n",
    "fear_c = 0\n",
    "train_session_list = []\n",
    "session_list = list(df_p.session.unique())\n",
    "random.shuffle(session_list)\n",
    "for session in session_list:\n",
    "    fear_n = df_p[(df_p.session == session) & (df_p.labels=='fear')].labels.count()\n",
    "    if fear_c+fear_n <= train_fear:\n",
    "        fear_c+=fear_n\n",
    "        train_session_list.append(session)\n",
    "    elif (33>len(train_session_list)) and fear_n<1:\n",
    "        train_session_list.append(session)\n",
    "    else: break\n",
    "    "
   ]
  },
  {
   "cell_type": "code",
   "execution_count": 4,
   "metadata": {},
   "outputs": [
    {
     "name": "stdout",
     "output_type": "stream",
     "text": [
      "angry 103\n",
      "happy 865\n",
      "neutral 8366\n",
      "surprise 105\n",
      "disqust 40\n",
      "sad 77\n",
      "fear 32\n",
      "\n",
      "angry 41\n",
      "happy 318\n",
      "neutral 2754\n",
      "surprise 51\n",
      "disqust 21\n",
      "sad 44\n",
      "fear 11\n"
     ]
    }
   ],
   "source": [
    "train_session_list\n",
    "for label in ['angry', 'happy', 'neutral', 'surprise', 'disqust', 'sad', 'fear']:\n",
    "    print(label, df_p[(df_p.session.isin(train_session_list)) & (df_p.labels==label)].labels.count())\n",
    "print()\n",
    "for label in ['angry', 'happy', 'neutral', 'surprise', 'disqust', 'sad', 'fear']:\n",
    "    print(label, df_p[~(df_p.session.isin(train_session_list)) & (df_p.labels==label)].labels.count())"
   ]
  },
  {
   "cell_type": "code",
   "execution_count": null,
   "metadata": {},
   "outputs": [],
   "source": [
    "train = df_p[(df_p.session.isin(train_session_list))]\n",
    "test = df_p[~(df_p.session.isin(train_session_list))]\n",
    "\n",
    "train.reset_index()[['audio', 'text', 'labels', 'session']].to_csv('session_train.csv')\n",
    "test.reset_index()[['audio', 'text', 'labels', 'session']].to_csv('session_test.csv')"
   ]
  }
 ],
 "metadata": {
  "kernelspec": {
   "display_name": "Python 3",
   "language": "python",
   "name": "python3"
  },
  "language_info": {
   "codemirror_mode": {
    "name": "ipython",
    "version": 3
   },
   "file_extension": ".py",
   "mimetype": "text/x-python",
   "name": "python",
   "nbconvert_exporter": "python",
   "pygments_lexer": "ipython3",
   "version": "3.8.6"
  },
  "orig_nbformat": 4
 },
 "nbformat": 4,
 "nbformat_minor": 2
}
